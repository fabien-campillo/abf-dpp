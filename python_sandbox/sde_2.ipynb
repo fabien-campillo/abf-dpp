{
 "cells": [
  {
   "cell_type": "markdown",
   "id": "7d297f21",
   "metadata": {},
   "source": [
    "# SDE\n",
    "## *Simulating independent trajectories of a vector SDE*\n",
    "\n",
    "------------\n",
    "\n",
    "Demain\n",
    "\n",
    "i want to create a function to simulate muttidimensional diffusion processes: a :maruyama scheme but I want to simulate in vectorized way R independent realization of the same process, the diffusion should be in dimension n and the wiener process in dimension d. The diffusion coefficient is f(t,X) and the diffusion coefficient is g(t,X), they should be given by the user. \n",
    "\n",
    "----------\n",
    "\n",
    "\n",
    "\n",
    "$\\newcommand{\\rmd}{\\textrm{d}}$\n",
    "$\\newcommand{\\R}{\\mathbb{R}}$\n",
    "Consider a $n$-dimensional SDE:\n",
    "$$\n",
    "   dX_t = f(t,X_t)\\,\\rmd t + g(t,X_t)\\,\\rmd W_t\\,,\\quad t\\in[0,T]\n",
    "$$\n",
    "where\n",
    "- $X_t$ (resp. $W_t$) is of dimension $n$ (resp. $d$) \n",
    "- $W_t$ is a standard Brownian motion independent of $X_0$\n",
    "- $f:\\R\\times \\R^n\\to \\R^n$,  $g:\\R\\times \\R^n\\to \\R^{n\\times d}$\n",
    "\n",
    "Indices are:\n",
    "$$\n",
    "X_t = [X_{t,i}]_{i=1:n}\n",
    "\\quad W_t = [W_{t,j}]_{j=1:d}\n",
    "\\quad f = [f_i]_{i=1:n}\n",
    "\\quad g=[g_{i,j}]_{i=1:n,j:1:d}\n",
    "$$\n",
    "I like also to simply write:\n",
    "$$\n",
    "X_t = X_{t,1:n}\n",
    "\\quad W_t = W_{t,1:d}\n",
    "\\quad f = f_{1:n}\n",
    "\\quad g = g_{1:n,1:d}\n",
    "$$\n",
    "\n",
    "\n",
    "> **Goal:** *generate $K$ independent trajectories $[0,T]\\ni t \\to X_t$*.\n",
    "\n",
    "## Times discretization\n",
    "\n",
    "We use an Euler-Maruyama scheme. Let $K$ given and:\n",
    "$$\n",
    "t_k := k\\,\\delta\\,,\\quad k=0:K\n",
    "$$\n",
    "where\n",
    "$$\n",
    " \\delta := \\frac{T}{K}\n",
    "$$\n",
    "the approximation $\\tilde X_k$ of $X_{t_k}$ is given by \n",
    "$$\n",
    "  \\tilde X_{k+1} = \\tilde X_k + f(t_k,\\tilde X_k)\\,\\delta + g(t_k,\\tilde X_k)\\,\\sqrt{\\delta}\\,w_k\n",
    "$$\n",
    "where $w_k$ is i.i.d. $N(0,I_{d\\times d})$ so that $\\sqrt{\\delta}\\,w_k$ is an approximation of $W_{t_{k+1}}-W_{t_{k}}$. Here we suppose that $X_0=\\tilde X_0=x$ given.\n"
   ]
  },
  {
   "cell_type": "markdown",
   "id": "300a217a-523b-441c-9cd8-0732c3ff62f7",
   "metadata": {},
   "source": [
    "# Data structure\n",
    "\n",
    "Simulate `R` independent trajectories of a  `d`-dimensional SDE `X` with drift coefficeint `f` and diffusion coefficient `g`. \n",
    "\n",
    " |   **dimensions**  |                        |                                                    |\n",
    " | ----| -----------------------| ---------------------------------------------------| \n",
    " | `n` |  state space dimension |  implicitly defined the diffusion coefficient `f`  | \n",
    " | `d` |  noise dimension       |  implicitly defined the diffusion coefficient `g`  | \n",
    "\n",
    " | **indices**      |         |\n",
    " |-------------------------|---------|\n",
    " | `i=1:n` | state dimension index |\n",
    " | `j=1:d` | noise dimension index   | \n",
    " |   `r=1:R` |realization index      | \n",
    " |   `k=0:N` |time index              `t_k = k * dt = i * T/N`| \n",
    "\n",
    "  | **output structures**   |               |               |\n",
    "  |----------|-----------------------------------|---------------|\n",
    "  | `t_vals` | array of time points of length    | `N+1`         |\n",
    "  | `X_vals` | array of simulated paths of shape | `(R, N+1, n)` | \n",
    "\n",
    "\n",
    "\n",
    "\n",
    "```\n",
    "      f: Function f(t, X) -> ndarray, drift term of SDE.\n",
    "        g: Function g(t, X) -> ndarray of shape (n, d), diffusion term of SDE.\n",
    "        X0: Initial condition, ndarray of shape (n,).\n",
    "        T: Final time.\n",
    "        N: Number of time steps (N+1: number of time instants)\n",
    "        R: Number of independent realizations.\n",
    "\n",
    "    X_vals: Array of shape (R, N+1, n) \n",
    "    X:      Array of shape (R, N+1, n) \n",
    "\n",
    "        drift = f(t, X)  # Shape (R, n)\n",
    "        # Einstein summation convention :\n",
    "        #    summation along j-index\n",
    "        #    to get a Shape (R, n) from (R, d, n)*(R, n)\n",
    "        diffusion = np.einsum('rji,rj->ri', g(t, X), dW[:, i, :])  # Shape (R, n)\n",
    "\n",
    "        X_vals <- X + drift * dt + diffusion  # Update for all realizations\n",
    "```\n",
    "\n",
    "\n",
    "        "
   ]
  },
  {
   "cell_type": "markdown",
   "id": "e275aac7-c66a-499b-9592-b3607f5484e5",
   "metadata": {},
   "source": [
    "# Vectorized algorithm \n",
    "\n",
    "```\n",
    "    n      = len(X0)                 # Dimension of X\n",
    "    dt     = T / N                   # Time step size\n",
    "    t_vals = np.linspace(0, T, N+1)  # Time points    \n",
    "    X_vals = np.zeros((R, N+1, n))   # memory allocation\n",
    "    X_vals[:, 0, :] = X0             # assign initial condition to all realizations\n",
    "\n",
    "    dW = np.random.normal(0, np.sqrt(dt), size=(R, N, n))  # Brownian increments Shape (R, N, n)\n",
    "                             >>>>>>>>>> should be (R, N, d)\n",
    "                             >>>>>>>>>> TO BE FIXED\n",
    "\n",
    "    for i in range(N):        # loop on time index (vectorized on realizations)\n",
    "        t = t_vals[i]         # current time\n",
    "        X = X_vals[:, i, :]   # current state (all realizations)\n",
    "        drift     = f(t, X) \n",
    "        diffusion = np.einsum('rji,rj->ri', g(t, X), dW[:, i, :])\n",
    "        X_vals[:, i+1, :] = X + drift * dt + diffusion # state update \n",
    "```"
   ]
  },
  {
   "cell_type": "markdown",
   "id": "c36f6551-b78f-4149-b471-5305cf7c4f6a",
   "metadata": {},
   "source": [
    "# The (vectorized) routine"
   ]
  },
  {
   "cell_type": "code",
   "execution_count": 1,
   "id": "092671cc-314f-4be5-a0d4-74ea6c3b16fe",
   "metadata": {},
   "outputs": [],
   "source": [
    "import numpy as np\n",
    "\n",
    "def sde_vectorized(f, g, X0, T, N, R):\n",
    "    \"\"\"\n",
    "    Vectorized simulation of an SDE using the Euler-Maruyama scheme.\n",
    "\n",
    "    Parameters:\n",
    "        f: Function f(t, X) -> ndarray, drift term of SDE.\n",
    "        g: Function g(t, X) -> ndarray of shape (n, d), diffusion term of SDE.\n",
    "        X0: Initial condition, ndarray of shape (n,).\n",
    "        T: Final time.\n",
    "        N: Number of time steps (N+1: number of time instants)\n",
    "        R: Number of independent realizations.\n",
    "\n",
    "    Understand:\n",
    "        n state space dimension given by n = len(X0)         i=1:n\n",
    "        d noise dimension (implicitly defined ????)          j=1:d\n",
    "        r realization index                                  r=1:R\n",
    "        k time index, t_k = k * dt = i * T/N for k=0:N\n",
    "        i dimension index, i=1:n\n",
    "\n",
    "    Returns:\n",
    "        t_vals: Array of time points.\n",
    "        X_vals: Array of shape (R, N+1, n), simulated paths of X_t.\n",
    "    \"\"\"\n",
    "    # --------------------------------------------------------------------------------\n",
    "    # --- some tests about dimension coherence ---------------------------------------\n",
    "    # --------------------------------------------------------------------------------\n",
    "\n",
    "    # X0 will be of dimension (n,R)\n",
    "    # n the dimension of the diffusion process and R\n",
    "    # the number of independent realizations\n",
    "\n",
    "    # Ensure X0 is a 2D array\n",
    "    if not isinstance(X0, np.ndarray) or X0.ndim != 2:\n",
    "        raise ValueError(\"X0 must be a 2D NumPy array of shape (n, R).\")\n",
    "\n",
    "    n, R = X0.shape  # Deduce n and R from X0\n",
    "\n",
    "    # Dimensions\n",
    "    n = len(X0)  # Dimension of X\n",
    "    dt = T / N  # Time step size\n",
    "    t_vals = np.linspace(0, T, N + 1)  # Time points\n",
    "\n",
    "    # Pre-allocate array for results\n",
    "    X_vals = np.zeros((R, N + 1, n))\n",
    "    # Initialize paths\n",
    "    X_vals[:, 0, :] = X0  # Set initial condition for all realizations\n",
    "\n",
    "    # Check the dimensions of f and g before starting the simulation\n",
    "    # Check the dimensions of f\n",
    "    f_result = f(t[0], X[:, :, 0])  # Evaluate f at the first time step\n",
    "    if f_result.shape != (n, R):\n",
    "        raise ValueError(f\"Function f(t, X) should return an array of shape (n, R), but got {f_result.shape}.\")\n",
    "\n",
    "    # Check the dimensions of g\n",
    "    g_result = g(t[0], X[:, :, 0])  # Evaluate g at the first time step\n",
    "    if g_result.shape != (n, d, R):  # Assuming d is the number of noise dimensions\n",
    "        raise ValueError(f\"Function g(t, X) should return an array of shape (n, d, R), but got {g_result.shape}.\")\n",
    "\n",
    "    # Generate Brownian increments for all realizations\n",
    "    dW = np.random.normal(0, np.sqrt(dt), size=(R, N, n))  # Shape (R, N, n)\n",
    "\n",
    "    # Vectorized iteration\n",
    "    for i in range(N):\n",
    "        current_t = t_vals[i]\n",
    "        current_X = X_vals[:, i, :]  # Current state for all realizations\n",
    "        drift = f(current_t, current_X)  # Shape (R, n)\n",
    "        # Einstein summation convention :\n",
    "        #    summation along j-index\n",
    "        #    to get a Shape (R, n) from (R, d, n)*(R, n)\n",
    "        diffusion = np.einsum(\"rji,rj->ri\", g(current_t, current_X), dW[:, i, :])  # Shape (R, n)\n",
    "        X_vals[:, i + 1, :] = current_X + drift * dt + diffusion  # Update for all realizations\n",
    "\n",
    "    return t_vals, X_vals\n"
   ]
  },
  {
   "cell_type": "markdown",
   "id": "bcadb623-0993-4936-a7d5-78d7a6c492d2",
   "metadata": {},
   "source": [
    "## Example usage"
   ]
  },
  {
   "cell_type": "code",
   "execution_count": 2,
   "id": "0f0e937a-35a2-429e-ab23-5d193e0148ee",
   "metadata": {},
   "outputs": [],
   "source": [
    "# ___ system parameters __________________________________________________________________________\n",
    "\n",
    "p_a, p_c, p_d, p_input = 0.08, 3, 1.8, 2.0   # parameter controlling the (x,y)-equation\n",
    "p_x1         = -3.0                # one parameter of the z-component of the slow forcing\n",
    "p_eps        = 0.01                # speed of the slow forcing\n",
    "p_s1, p_alpha, p_z0, p_b0 = 0.01, -0.1, -1.7737, 1.5\n",
    "\n",
    "\n",
    "def f(t, S):\n",
    "    \"\"\"\n",
    "    Hindmarsh-Rose (HR) model\n",
    "    \"\"\"\n",
    "    x, y, z, b = S\n",
    "    f1 = p_c * (x-x**3/3-y+z+p_input)\n",
    "    f2 = (x**2+p_d*x-b*y+p_a) / p_c\n",
    "    f3 = p_eps * (-p_s1*(x-p_x1)-(b-p_b0))\n",
    "    f4 = p_eps * (z-p_z0+p_alpha*x)\n",
    "    return np.array([f1, f2, f3, f4])\n",
    "\n",
    "def fff(t, S):\n",
    "    x, y, z, b = S\n",
    "    dxdt = p_c * (x-x**3/3-y+z+p_input)\n",
    "    dydt = (x**2+p_d*x-b*y+p_a) / p_c\n",
    "    dzdt = p_eps * (-p_s1*(x-p_x1)-(b-p_b0))\n",
    "    dbdt = p_eps * (z-p_z0+p_alpha*x)\n",
    "    return np.array([dxdt,dydt,dzdt,dbdt])\n",
    "\n"
   ]
  },
  {
   "cell_type": "code",
   "execution_count": 5,
   "id": "f86c5a2d-8102-4e8c-b3cb-cf2e38bfcc9f",
   "metadata": {},
   "outputs": [
    {
     "ename": "ValueError",
     "evalue": "could not broadcast input array from shape (5,2) into shape (2,5)",
     "output_type": "error",
     "traceback": [
      "\u001b[0;31m---------------------------------------------------------------------------\u001b[0m",
      "\u001b[0;31mValueError\u001b[0m                                Traceback (most recent call last)",
      "Cell \u001b[0;32mIn[5], line 23\u001b[0m\n\u001b[1;32m     20\u001b[0m N \u001b[38;5;241m=\u001b[39m \u001b[38;5;241m100\u001b[39m  \u001b[38;5;66;03m# Number of time steps\u001b[39;00m\n\u001b[1;32m     21\u001b[0m R \u001b[38;5;241m=\u001b[39m \u001b[38;5;241m1000\u001b[39m  \u001b[38;5;66;03m# Number of realizations\u001b[39;00m\n\u001b[0;32m---> 23\u001b[0m t_vals, X_vals \u001b[38;5;241m=\u001b[39m \u001b[43msde_vectorized\u001b[49m\u001b[43m(\u001b[49m\u001b[43mf\u001b[49m\u001b[43m,\u001b[49m\u001b[43m \u001b[49m\u001b[43mg\u001b[49m\u001b[43m,\u001b[49m\u001b[43m \u001b[49m\u001b[43mX0\u001b[49m\u001b[43m,\u001b[49m\u001b[43m \u001b[49m\u001b[43mT\u001b[49m\u001b[43m,\u001b[49m\u001b[43m \u001b[49m\u001b[43mN\u001b[49m\u001b[43m,\u001b[49m\u001b[43m \u001b[49m\u001b[43mR\u001b[49m\u001b[43m)\u001b[49m\n",
      "Cell \u001b[0;32mIn[1], line 48\u001b[0m, in \u001b[0;36msde_vectorized\u001b[0;34m(f, g, X0, T, N, R)\u001b[0m\n\u001b[1;32m     46\u001b[0m X_vals \u001b[38;5;241m=\u001b[39m np\u001b[38;5;241m.\u001b[39mzeros((R, N \u001b[38;5;241m+\u001b[39m \u001b[38;5;241m1\u001b[39m, n))\n\u001b[1;32m     47\u001b[0m \u001b[38;5;66;03m# Initialize paths\u001b[39;00m\n\u001b[0;32m---> 48\u001b[0m \u001b[43mX_vals\u001b[49m\u001b[43m[\u001b[49m\u001b[43m:\u001b[49m\u001b[43m,\u001b[49m\u001b[43m \u001b[49m\u001b[38;5;241;43m0\u001b[39;49m\u001b[43m,\u001b[49m\u001b[43m \u001b[49m\u001b[43m:\u001b[49m\u001b[43m]\u001b[49m \u001b[38;5;241m=\u001b[39m X0  \u001b[38;5;66;03m# Set initial condition for all realizations\u001b[39;00m\n\u001b[1;32m     50\u001b[0m \u001b[38;5;66;03m# Check the dimensions of f and g before starting the simulation\u001b[39;00m\n\u001b[1;32m     51\u001b[0m \u001b[38;5;66;03m# Check the dimensions of f\u001b[39;00m\n\u001b[1;32m     52\u001b[0m f_result \u001b[38;5;241m=\u001b[39m f(t[\u001b[38;5;241m0\u001b[39m], X[:, :, \u001b[38;5;241m0\u001b[39m])  \u001b[38;5;66;03m# Evaluate f at the first time step\u001b[39;00m\n",
      "\u001b[0;31mValueError\u001b[0m: could not broadcast input array from shape (5,2) into shape (2,5)"
     ]
    }
   ],
   "source": [
    "import numpy as np\n",
    "\n",
    "#  the dimensions of X and W are given buy the funtcion f and g\n",
    "#  the dimension of f depends on the dimension of X0\n",
    "\n",
    "def f(t, X):\n",
    "    return -X  # Example drift term\n",
    "\n",
    "def g(t, X):\n",
    "    return np.tile(np.eye(X.shape[1]), (X.shape[0], 1, 1))  # Example diffusion term (identity matrix)\n",
    "\n",
    "# initial condition\n",
    "#X0 = np.array([1.0, 0.0])  # Initial condition (2D system)\n",
    "R = 5  # Number of repetitions\n",
    "ini_cond = np.array([1.0, 0.0])\n",
    "X0 = np.tile(ini_cond, (R, 1))\n",
    "\n",
    "\n",
    "T = 1.0  # Final time\n",
    "N = 100  # Number of time steps\n",
    "R = 1000  # Number of realizations\n",
    "\n",
    "t_vals, X_vals = sde_vectorized(f, g, X0, T, N, R)"
   ]
  },
  {
   "cell_type": "markdown",
   "id": "cde36940-188f-4ac9-91d9-2d2dbd5fad49",
   "metadata": {},
   "source": [
    "# Graphics"
   ]
  },
  {
   "cell_type": "code",
   "execution_count": null,
   "id": "2e776057-a65d-45ae-9133-f994a292ba2c",
   "metadata": {},
   "outputs": [],
   "source": [
    "import matplotlib.pyplot as plt\n",
    "\n",
    "# Enable LaTeX rendering\n",
    "plt.rcParams['text.usetex'] = True\n",
    "\n",
    "# Set global font size for labels\n",
    "plt.rcParams['axes.labelsize'] = 20  # Font size for x and y labels\n",
    "plt.rcParams['axes.titlesize'] = 20  # Font size for title\n",
    "plt.rcParams['xtick.labelsize'] = 15  # Font size for x-axis ticks\n",
    "plt.rcParams['ytick.labelsize'] = 15  # Font size for y-axis ticks\n",
    "\n",
    "# Set the global font to Roman (serif) family\n",
    "#plt.rcParams['font.family'] = 'serif'\n",
    "\n",
    "# Set the font for LaTeX-style text\n",
    "#plt.rcParams['serif'] = ['Times New Roman']  # Or any Roman font you prefer\n",
    "\n",
    "plt.rcParams[\"font.family\"] = \"serif\"\n",
    "plt.rcParams[\"font.serif\"] = [\"Times New Roman\"]"
   ]
  },
  {
   "cell_type": "markdown",
   "id": "3e2fbd38-f118-4b58-8dd2-ba6a41d3683d",
   "metadata": {},
   "source": [
    "## $R$ independent trajectories"
   ]
  },
  {
   "cell_type": "code",
   "execution_count": null,
   "id": "281c94aa-820d-423d-b312-3e700023f9d7",
   "metadata": {},
   "outputs": [],
   "source": [
    "# Visualization of the paths (first dimension)\n",
    "# --- we don't want to plot all the time steps\n",
    "N_plots = 30              # number of times for plot\n",
    "delta_plots = N//N_plots  # time steps between two plots\n",
    "\n",
    "coordinate = 0\n",
    "\n",
    "plt.figure(figsize=(10, 6))\n",
    "for r in range(R):  # Plot first 10 realizations\n",
    "    plt.plot(t_vals[::delta_plots], X_vals[r, ::delta_plots, coordinate], color='b', alpha=0.05)\n",
    "plt.xlabel(r\"time $t$\")\n",
    "plt.ylabel(r\"$X_t$\")\n",
    "plt.title(rf\"{R} simulated SDE paths (coordinnate {coordinate+1})\")\n",
    "plt.ylim(-3,3)\n",
    "plt.show()"
   ]
  },
  {
   "cell_type": "code",
   "execution_count": null,
   "id": "7424deaf-4f8b-4687-b30d-537f74ba453b",
   "metadata": {},
   "outputs": [],
   "source": []
  },
  {
   "cell_type": "code",
   "execution_count": null,
   "id": "9911306d-2b2f-4fe2-affa-d94cb5d6f422",
   "metadata": {},
   "outputs": [],
   "source": [
    "# Example usage\n",
    "def f(t, X):\n",
    "    return -X  # Example drift term\n",
    "\n",
    "def g(t, X):\n",
    "    return np.eye(len(X))  # Example diffusion term (identity matrix)\n",
    "\n",
    "# Parameters\n",
    "X0 = np.array([2.0, 0.0])  # Initial condition (2D system)\n",
    "T = 1.0  # Final time\n",
    "N = 100  # Number of time steps\n",
    "R = 1000  # Number of realizations\n",
    "\n",
    "t_vals, X_vals = simulate_sde_euler_maruyama_vectorized(f, g, X0, T, N, R)"
   ]
  },
  {
   "cell_type": "code",
   "execution_count": null,
   "id": "9832918d-6155-4375-a34b-3ba81f8bfafa",
   "metadata": {},
   "outputs": [],
   "source": [
    "aaaa = hindmarsh_rose_extended(1,np.array([1,2,3,4]))"
   ]
  },
  {
   "cell_type": "code",
   "execution_count": null,
   "id": "b67e2751-966f-4c38-90cd-794f3b3e2d90",
   "metadata": {},
   "outputs": [],
   "source": [
    "bbbb = aaaa.transpose()"
   ]
  },
  {
   "cell_type": "code",
   "execution_count": null,
   "id": "7b394431-995b-40cb-bc83-c62992f7e2ea",
   "metadata": {},
   "outputs": [],
   "source": [
    "aaaa.shape"
   ]
  },
  {
   "cell_type": "code",
   "execution_count": null,
   "id": "802e6468-2c74-4be8-a903-ee564057e571",
   "metadata": {},
   "outputs": [],
   "source": [
    "bbbb.shape"
   ]
  },
  {
   "cell_type": "code",
   "execution_count": null,
   "id": "989b7550-ee5b-430e-8531-4569061ce443",
   "metadata": {},
   "outputs": [],
   "source": []
  },
  {
   "cell_type": "code",
   "execution_count": null,
   "id": "3ad06ede-75c1-482c-b1f4-673e2f73594a",
   "metadata": {},
   "outputs": [],
   "source": []
  },
  {
   "cell_type": "code",
   "execution_count": null,
   "id": "d1204835-6fb6-4c45-9b7a-ba756b49cf77",
   "metadata": {},
   "outputs": [],
   "source": [
    "X0 = 1"
   ]
  },
  {
   "cell_type": "code",
   "execution_count": null,
   "id": "7bbe78cc-de26-4432-b102-e878c7e29cae",
   "metadata": {},
   "outputs": [],
   "source": [
    "isinstance(X0, np.ndarray)"
   ]
  },
  {
   "cell_type": "code",
   "execution_count": null,
   "id": "0d1085e0-b458-465d-8fec-585aca2ae8c7",
   "metadata": {},
   "outputs": [],
   "source": [
    "len(X0.shape) == 1"
   ]
  },
  {
   "cell_type": "code",
   "execution_count": null,
   "id": "fed1fa71-1b4b-45c8-9889-44d1bea84fa0",
   "metadata": {},
   "outputs": [],
   "source": [
    "np.array([1,2,3,4])"
   ]
  },
  {
   "cell_type": "code",
   "execution_count": null,
   "id": "5cbf6922-fa3e-4ad9-b1c6-bb51e49c4a6a",
   "metadata": {},
   "outputs": [],
   "source": [
    "np.repmat()"
   ]
  },
  {
   "cell_type": "code",
   "execution_count": null,
   "id": "5644aeea-c6bb-40ab-836e-9ee71169aab0",
   "metadata": {},
   "outputs": [],
   "source": [
    "X0 = np.array([1])[:, np.newaxis]  # Shape (4, 1)\n",
    "#X0 = np.tile(X0, 1)  # Shape (4, 10)\n",
    "\n",
    "if X0.ndim == 1:\n",
    "    n = X0.shape[0]\n",
    "    R = 1  # Single realization applied to one trajectory\n",
    "    print(\"cas 1\")\n",
    "elif X0.ndim == 2:\n",
    "    n, R = X0.shape\n",
    "    print(\"cas 2\")\n",
    "else:\n",
    "    raise ValueError(\"X0 must be of shape (n,) or (n, R).\")\n"
   ]
  },
  {
   "cell_type": "code",
   "execution_count": null,
   "id": "bc1e075c-e7ef-4dac-bfbc-ac5fdf00bf39",
   "metadata": {},
   "outputs": [],
   "source": [
    "n = X0.shape[0]"
   ]
  },
  {
   "cell_type": "code",
   "execution_count": null,
   "id": "d992e9c0-5b20-4e53-a86d-3771541bf53e",
   "metadata": {},
   "outputs": [],
   "source": [
    "n"
   ]
  },
  {
   "cell_type": "code",
   "execution_count": null,
   "id": "6334ccf4-57b9-40a5-a1b0-69981b4c0d6a",
   "metadata": {},
   "outputs": [],
   "source": [
    "X0 = X0[:, np.newaxis]"
   ]
  },
  {
   "cell_type": "code",
   "execution_count": null,
   "id": "6e2eb2f5-153b-45db-ae24-eb4fabc9f15e",
   "metadata": {},
   "outputs": [],
   "source": [
    "X0"
   ]
  },
  {
   "cell_type": "code",
   "execution_count": 10,
   "id": "c77624e6-e71e-4396-b5a0-3372cd985f4b",
   "metadata": {},
   "outputs": [
    {
     "data": {
      "text/plain": [
       "array([[1, 1, 1, 1, 1, 1, 1, 1, 1, 1],\n",
       "       [2, 2, 2, 2, 2, 2, 2, 2, 2, 2],\n",
       "       [3, 3, 3, 3, 3, 3, 3, 3, 3, 3],\n",
       "       [4, 4, 4, 4, 4, 4, 4, 4, 4, 4]])"
      ]
     },
     "execution_count": 10,
     "metadata": {},
     "output_type": "execute_result"
    }
   ],
   "source": [
    "X0 = np.array([1,2,3,4])[:, np.newaxis]  # Shape (4, 1)\n",
    "np.tile(X0, 10)  # Shape (4, 10)"
   ]
  },
  {
   "cell_type": "code",
   "execution_count": 16,
   "id": "bb1495bc-d2a8-4cd4-a95a-4f00337e2a5c",
   "metadata": {},
   "outputs": [
    {
     "data": {
      "text/plain": [
       "array([[1., 0.],\n",
       "       [1., 0.],\n",
       "       [1., 0.],\n",
       "       [1., 0.],\n",
       "       [1., 0.]])"
      ]
     },
     "execution_count": 16,
     "metadata": {},
     "output_type": "execute_result"
    }
   ],
   "source": [
    "R = 5  # Number of repetitions\n",
    "ini_cond = np.array([1.0, 0.0])\n",
    "np.tile(ini_cond, (R,1))\n"
   ]
  },
  {
   "cell_type": "code",
   "execution_count": null,
   "id": "6f9059a8-a6e3-4354-be46-b0bbebc66bd2",
   "metadata": {},
   "outputs": [],
   "source": []
  }
 ],
 "metadata": {
  "kernelspec": {
   "display_name": "Python 3 (ipykernel)",
   "language": "python",
   "name": "python3"
  },
  "language_info": {
   "codemirror_mode": {
    "name": "ipython",
    "version": 3
   },
   "file_extension": ".py",
   "mimetype": "text/x-python",
   "name": "python",
   "nbconvert_exporter": "python",
   "pygments_lexer": "ipython3",
   "version": "3.9.21"
  }
 },
 "nbformat": 4,
 "nbformat_minor": 5
}
