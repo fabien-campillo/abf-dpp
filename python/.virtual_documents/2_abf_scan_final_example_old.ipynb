


file_path1 = "abf_data/Bursting/cell89basal.abf"
# donner les sweep interessant ici
file_path2 = "abf_data/Bursting/cell98basal.abf"





import pyabf
abf = pyabf.ABF(file_path2)
print(f"\nInformation about the file : {abf}")
print(f"\nList of sweeps : {abf.sweepList}")


import matplotlib.pyplot as plt
plt.figure(figsize=(12, 8))

# plot every sweep (with vertical offset)
for sweepNumber in abf.sweepList:
    abf.setSweep(sweepNumber)
    offset = 100*sweepNumber
    plt.plot(abf.sweepX, abf.sweepY+offset, color='b',lw=0.1)

# decorate the plot
plt.gca().get_yaxis().set_visible(False)  # hide Y axis
plt.title(file_path2)
plt.xlabel(abf.sweepLabelX,color='w')
plt.show()





plt.figure(figsize=(8, 5))
plt.ylabel(abf.sweepLabelY)
plt.xlabel(abf.sweepLabelX)
abf.setSweep(9)
plt.plot(abf.sweepX, abf.sweepY, alpha=1, lw=0.1)
plt.xlim((10,17))
plt.show()


plt.figure(figsize=(8, 5))
plt.ylabel(abf.sweepLabelY)
plt.xlabel(abf.sweepLabelX)
abf.setSweep(17)
plt.plot(abf.sweepX, abf.sweepY, alpha=1, lw=0.1)
plt.xlim((0,5))
plt.show()








abf = pyabf.ABF(file_path2)
print(f"\nInformation about the file : {abf}")
print(f"\nList of sweeps : {abf.sweepList}")


plt.figure(figsize=(12, 8))

# plot every sweep (with vertical offset)
for sweepNumber in abf.sweepList:
    abf.setSweep(sweepNumber)
    offset = 120*sweepNumber
    plt.plot(abf.sweepX, abf.sweepY+offset, color='k',lw=0.1)

# decorate the plot
plt.gca().get_yaxis().set_visible(False)  # hide Y axis
plt.title(file_path2)
plt.xlabel(abf.sweepLabelX,color='w')
plt.show()


#abf.setSweep(1)
plt.figure(figsize=(8, 5))
plt.title(file_path2)
plt.ylabel(abf.sweepLabelY)
plt.xlabel(abf.sweepLabelX)
for i in [9]:
    abf.setSweep(i)
    offset = 100*i
    plt.plot(abf.sweepX, abf.sweepY+offset, 'k', alpha=1, lw=0.1, label="sweep %d" % (i))
    plt.xlim((12,18))
    plt.show()





def burst_detection(df, spike_times, spike_amplitudes, spike_peaks,
                    n_spikes, 
                    max_isi, 
                    # min_duration,  # Optional
                    min_ibi):
     
    """
    Detects bursts in spike data based on spike times, 
    by identifying consecutive spikes that fulfill the criteria of:
    minimum number of spikes, maximum interspike interval, and minimum interburst interval.
     
    Arguments: 
        df: DataFrame with spike data.
        spike_times: Column name for spike positions.
        spike_amplitudes: Column name for spike amplitudes.
        spike_peaks: Column name for spike peak amplitudes. 
        n_spikes: Minimum number of spikes within a burst.
        max_isi: Max interspike interval within the burst.
        min_duration: Minimum burst duration.
        min_ibi: Minimum interburst interval (optional).
         
     
    Returns:
        DataFrame with burst information.
    """
     
    df = df.sort_values(by=spike_times)  # Sort DataFrame by spike positions
    df['burst'] = np.nan  # Create column for burst labels
    burst_num = 0        # Initialize burst number
    burst_start = None   # Initialize burst start position
    last_spike = None    # Initialize last spike position
 
    for i, row in df.iterrows():  # Loop through DataFrame rows 
        spike = row[spike_times]   # Extract the spike position 
         
        if burst_start is None:   # It checks if it is the first spike 
            burst_start = spike   # It marks the current spike position as the start of a burst
            last_spike = spike    # Update the last_spike position to the current spike position
            df.at[i, 'burst'] = burst_num   # Assign burst number
        elif spike - last_spike <= max_isi:  # It checks if the current spike is within max isi
            df.at[i, 'burst'] = burst_num  
            last_spike = spike 
        elif spike - last_spike > min_ibi:  # It checks if the interburst interval has been reached
            burst_num += 1 
            burst_start = spike 
            last_spike = spike  
            df.at[i, 'burst'] = burst_num  
     
    # Filter bursts with less than min_spikes
    df = df[df.groupby('burst')[spike_times].transform('count') >= n_spikes]
     
    # Filter burst shorter that min_duration (min_duration parameter)
    # df = df[df.groupby('burst')[spike_times].transform('max') 
    #         - df.groupby('burst')[spike_times].transform('min')
    #         >= min_duration]
     
    # Calculate burst information by aggregating single spike information
    bursts = df.groupby('burst')[spike_times].agg(['min', 'max', 'count'])
    bursts.columns = ['burst_start', 'burst_end', 'spikes_in_bursts']
    bursts['burst_length'] = bursts['burst_end'] - bursts['burst_start']
    bursts['avg_spike_amplitude'] = df.groupby('burst')[spike_amplitudes].mean()
    bursts['avg_spike_peaks'] = df.groupby('burst')[spike_peaks].mean()  
    bursts['spikes_frequency'] = bursts['spikes_in_bursts'] / bursts['burst_length']
    bursts = bursts.reset_index()
    bursts['burst_number'] = bursts.index + 1
     
     
    return bursts[['burst_number', 'burst_start', 'burst_end', 
                   'burst_length', 'spikes_in_bursts', 'avg_spike_amplitude', 
                   'avg_spike_peaks', 'spikes_frequency']


# Burst table
bursts = burst_detection(spikes_table,  # Dataframe with spike positions as input data  
                         'spike_time', 
                         'spike_amplitude',
                         'spike_peak',
                         n_spikes = 2,  
                         max_isi = 0.1,
                         # min_duration = 0.5,  # Optional
                         min_ibi = 0.2)  
 
 
# Plotting: create figure and axis
fig, (ax1, ax2) = plt.subplots(2, 1, figsize=(8, 6))
 
# Plot 1: trace and detected bursts
ax1.plot(time, peaks_signal, color='gray')
# Plot red dots for detected events
ax1.scatter(spikes_table['spike_time'], spikes_table['spike_peak'], color="magenta", s=10)
 
# Plot the detected bursts 
for i, burst in bursts.iterrows():
    burst_start = burst['burst_start']
    burst_end = burst['burst_end']
    burst_number = int(burst['burst_number'])
     
    # Set the height of the burst line
    # spike_peaks = burst['avg_spike_peaks'] + 5  # Option A
    spike_peaks = np.median(spikes_table.spike_peak) + 5  # Option B
     
    # Plot an horizontal line from beginning to the end of the bursts
    ax1.plot([burst_start, burst_end], [spike_peaks, spike_peaks], 'black')
    # Annotate each line with the burst number
    ax1.annotate(str(burst_number),  xy=(burst_start, spike_peaks), 
                xytext=(burst_start, spike_peaks + 1))
 
# Set title and show plot
ax1.set_title("Burst detection") 
ax1.set_ylabel("Voltage (mV)")
ax1.set_xlabel("Time (s)")
 
# Remove top and right frame borders
ax1.spines['top'].set_visible(False)
ax1.spines['right'].set_visible(False)
ax1.axes.set_xlim(0, 4)  # OptionaL: Zoom in the trace
 
# Plot 2: single burst 
ax2.set_title("Burst viewer")
burst_number = 2  # Change here the burst number
 
# Plot the signal with detected spikes
ax2.plot(time, peaks_signal, color='gray', label=burst_number)
ax2.scatter(spikes_table['spike_time'], spikes_table['spike_peak'], color="magenta", s=10)
 
# Burst time window + 0.1 s before and after
burst_start = bursts.loc[bursts['burst_number'] == burst_number, 'burst_start'].values[0]
burst_end = bursts.loc[bursts['burst_number'] == burst_number, 'burst_end'].values[0]
burst_line_y = bursts.loc[bursts['burst_number'] == burst_number, 'avg_spike_peaks'].values[0] + 5
ax2.plot([burst_start, burst_end], [burst_line_y, burst_line_y], 'black')
ax2.set_xlim(burst_start - 0.1, burst_end + 0.1) 
 
# Label the plot
ax2.set_ylabel("Voltage (mV)")
ax2.set_xlabel("Time (s)")
ax2.legend()
 
# Display the plots and table
fig.tight_layout()
plt.show()
bursts








import numpy as np
import pandas as pd
 
import pyabf
 
import scipy
from scipy import signal
from scipy.signal import find_peaks
from scipy.optimize import curve_fit
from scipy.stats import skew, kurtosis
 
import matplotlib.pyplot as plt
 
# If you want to display interactive plots using the ipympl backend:
# %matplotlib widget 
# Ipympl creates multiple interactive plots so you need to close them:
# plt.close('all') 





# ABF files
data = "abf_data/Bursting/cell89basal.abf"
abf = pyabf.ABF(data)
print(abf)
 
# Sampling rate
fs = int(abf.dataPointsPerMs * 1000)
 
# Quick plot to see the trace/s
plt.figure(figsize=(8,4))
 
for sweepNumber in abf.sweepList:
    abf.setSweep(sweepNumber)
    plt.plot(abf.sweepX, abf.sweepY)
    plt.ylabel(abf.sweepLabelY)
    plt.xlabel(abf.sweepLabelX)
 
plt.show()
 
# Select the sweep and/or channel
# abf.setSweep(10)  # Sweep
# abf.setSweep(sweepNumber=0, channel=0)  # Sweep and channel





# Sampling rate
fs = int(abf.dataPointsPerMs * 1000)
 
# Lowpass Bessel filter
b_lowpass, a_lowpass = signal.bessel(4,     # Order of the filter
                                     2000,  # Cutoff frequency
                                     'low', # Type of filter
                                     analog=False,  # Analog or digital filter
                                     norm='phase',  # Critical frequency normalization
                                     fs=fs)  # fs: sampling frequency
 
signal_filtered = signal.filtfilt(b_lowpass, a_lowpass, abf.sweepY)





# Assign the variables here to simplify the code
time = abf.sweepX
peaks_signal = abf.sweepY  # Or signal_filtered
abf.setSweep(15)

# Set parameters for the Find peaks function (set to None if not needed)
thresh_min = -25                    # Min threshold to detect spikes
thresh_prominence = 15              # Min spike amplitude  
thresh_min_width = 0.5 * (fs/1000)  # Min required width in ms
distance_min = 1 * (fs/1000)        # Min horizontal distance between peaks
pretrigger_window = (1.5 * fs)/1000
posttrigger_window = (2 * fs)/1000
 
# Find peaks function
peaks, peaks_dict = find_peaks(peaks_signal, 
           height=thresh_min, 
           threshold=thresh_min,  
           distance=distance_min,  
           prominence=thresh_prominence,  
           width=thresh_min_width, 
           wlen=None,       # Window length to calculate prominence
           rel_height=0.5,  # Relative height at which the peak width is measured
           plateau_size=None)
  
# Create table with results
spikes_table = pd.DataFrame(columns = ['spike', 'spike_index', 'spike_time',
                                       'inst_freq', 'isi_s',
                                       'width', 'rise_half_ms', 'decay_half_ms',
                                       'spike_peak', 'spike_amplitude'])
 
spikes_table.spike = np.arange(1, len(peaks) + 1)
spikes_table.spike_index = peaks
spikes_table.spike_time = peaks / fs  # Divided by fs to get s
spikes_table.isi_s = np.diff(peaks, axis=0, prepend=peaks[0]) / fs
spikes_table.inst_freq = 1 / spikes_table.isi_s
spikes_table.width = peaks_dict['widths']/(fs/1000) # Width (ms) at half-height
spikes_table.rise_half_ms = (peaks - peaks_dict['left_ips'])/(fs/1000) 
spikes_table.decay_half_ms = (peaks_dict['right_ips'] - peaks)/(fs/1000)
spikes_table.spike_peak = peaks_dict['peak_heights']  # height parameter is needed
spikes_table.spike_amplitude = peaks_dict['prominences']  # prominence parameter is needed
      
# Plot the detected spikes in the trace
fig, ax = plt.subplots(figsize=(8, 4))
ax.plot(time, peaks_signal,lw=0.1)
 
# Red dot on each detected spike
ax.plot(peaks/fs, peaks_signal[peaks], "r.",markersize=2)
 
# Add a number to each detected peak
# for i, txt in enumerate(spikes_table.spike):  
#     ax1.annotate(spikes_table.spike[i], (peaks[i]/fs, peaks_signal[peaks][i]))
 
ax.set_title("Event detection")  
ax.set_xlabel("Time (s)")
ax.set_ylabel("Voltage (mV)")
#ax.axes.set_xlim(0.4, 0.9)  # Zoom in the trace
 
# Show graph and table
plt.show()
spikes_table





fig.savefig('abf_data/Bursting/cell89basal.png', dpi=300)
spikes_table.to_csv('abf_data/Bursting/cell89basal_spike_table.csv', index=False)





# Assign ISI data to this variable
hist_data = spikes_table['isi_s']
 
# Empty DataFrame for histogram stats
hist_stats = pd.DataFrame()
 
# Bin size
bin_size = 10  # in miliseconds
 
# Histogram
isi_range = np.ptp(hist_data)
bins = int((isi_range * 1000 / bin_size) + 0.5)  # Round to the nearest integer
hist = np.histogram(hist_data, bins=bins)
hist_counts = hist[0]
hist_bins = hist[1]
 
# Cumulative moving average
cum = np.cumsum(hist_counts)  # Cumulative sum
cma = cum / np.arange(1, len(cum) + 1)
 
# Calculate peaks and valleys of the cma
cma_peaks_indexes = scipy.signal.argrelextrema(cma, np.greater)
cma_valleys_indexes = scipy.signal.argrelextrema(cma, np.less)
 
# Select the peak you're interested in
peak_index = cma_peaks_indexes[0][0]  # Change second number to select the peak
alpha = cma[peak_index] * 0.5  # Half-peak, adapt the value to your threshold criterion
 
# Calculate cma_threshold_index relative to the selected cma_peak
cma_threshold = (np.argmin(cma[peak_index:] >= alpha) + peak_index) * bin_size/1000
 
# Dataframe with histogram statistics
length = len(hist_stats)
hist_stats.loc[length, 'mean_isi'] = np.mean(hist_data)
hist_stats.loc[length, 'median_isi'] = np.median(hist_data)
hist_stats.loc[length, 'kurtosis'] = kurtosis(hist_counts)
hist_stats.loc[length, 'skewness'] = skew(hist_counts, bias=True)
hist_stats.loc[length, 'cma_threshold'] = cma_threshold
hist_stats.loc[length, 'cma_valley_time'] = cma_valleys_indexes[0][1] * bin_size/1000  # Change peak index as needed
hist_stats.loc[length, 'cma_peak_time'] = cma_peaks_indexes[0][0] * bin_size/1000  # Change peak index as needed
 
# Plot ISI histogram
fig, ax = plt.subplots(figsize=(8, 4))
ax.set_title("ISI histogram") 
ax.hist(hist_data, bins=bins, alpha=0.6)
 
# Plot CMA
cma_x = np.linspace(np.min(hist_bins), np.max(hist_bins), bins)
ax.plot(cma_x, cma)
 
# Plot CMA threshold line
ax.axvline(cma_threshold, linestyle="dotted", color="gray")
 
# Plot CMA valleys
ax.plot(cma_x[cma_valleys_indexes], cma[cma_valleys_indexes], 'ko')
ax.plot(cma_x[cma_peaks_indexes], cma[cma_peaks_indexes], 'mo')
 
# ax.set_xscale('log')  # Logarithmic scale may be easier to set the threshold
ax.set_xlabel("Time bins (s)")
ax.set_ylabel("Count")
 
# Show graph and table
plt.show()
hist_stats


# Assign ISI data to this variable
hist_data = spikes_table['isi_s']
 
# Empty DataFrame for histogram stats
hist_stats = pd.DataFrame()
 
# Bin size
bin_size = 10  # in miliseconds
 
# Histogram
isi_range = np.ptp(hist_data)
bins = int((isi_range * 1000 / bin_size) + 0.5)  # Round to the nearest integer
hist = np.histogram(hist_data, bins=bins)
hist_counts = hist[0]
hist_bins = hist[1]
 
# Cumulative moving average
cum = np.cumsum(hist_counts)  # Cumulative sum
cma = cum / np.arange(1, len(cum) + 1)


hist = np.histogram(hist_data, bins=bins)


hist[0]


hist[1]


 np.cumsum(hist_counts)


cum / np.arange(1, len(cum) + 1)


scipy.signal.argrelextrema(cma, np.greater)


plt.plot(cma)


cma_peaks_indexes[0]





import pyabf
import numpy as np
from scipy.signal import find_peaks
import matplotlib.pyplot as plt

abf = pyabf.ABF(file_path1)
abf.setSweep(15)

# Extract sweep data
time = abf.sweepX  # Time axis for the sweep
voltage = abf.sweepY  # Voltage data for the sweep

# Detect spikes using a threshold or peak detection
threshold = -20  # Set your voltage threshold for spike detection (e.g., -20 mV)
spike_indices, _ = find_peaks(voltage, height=threshold)


# Plot the sweep and detected spikes
plt.figure(figsize=(10, 6))
plt.plot(time, voltage, label='Sweep Data',lw=0.1)
plt.plot(time[spike_indices], voltage[spike_indices], 'r.', label='Spikes', markersize=3)
plt.axhline(threshold, color='k', linestyle='--', label='Threshold',lw=0.1)
plt.xlabel("Time (s)")
plt.ylabel("Voltage (mV)")
plt.title("Sweep with Detected Spikes")
plt.legend()
plt.show()


# Detect spikes
threshold = -20  # Set your voltage threshold for spike detection (e.g., -20 mV)
spike_indices, _ = find_peaks(voltage, height=threshold)
spike_times = time[spike_indices]  # Convert spike indices to times

# Detect bursts based on ISI
isi = np.diff(spike_times)  # Inter-spike intervals
burst_threshold = 0.6  # Define an ISI threshold for bursts (e.g., 20 ms)
burst_start_indices = np.where(isi < burst_threshold)[0]  # Indices of spikes starting bursts

# Group spikes into bursts
bursts = []
current_burst = [spike_indices[burst_start_indices[0]]]
for i in range(1, len(burst_start_indices)):
    if burst_start_indices[i] == burst_start_indices[i - 1] + 1:
        current_burst.append(spike_indices[burst_start_indices[i]])
    else:
        bursts.append(current_burst)
        current_burst = [spike_indices[burst_start_indices[i]]]
bursts.append(current_burst)  # Add the last burst

# Plot the sweep, spikes, and bursts
plt.figure(figsize=(12, 6))
plt.plot(time, voltage, label='Sweep Data')
plt.plot(time[spike_indices], voltage[spike_indices], 'r.', label='Spikes', markersize=8)

# Highlight bursts
for burst in bursts:
    burst_times = time[burst]
    burst_voltages = voltage[burst]
    plt.plot(burst_times, burst_voltages, 'go', label='Burst Spikes', markersize=10)

plt.axhline(threshold, color='k', linestyle='--', label='Threshold')
plt.xlabel("Time (s)")
plt.ylabel("Voltage (mV)")
plt.title("Sweep with Detected Spikes and Bursts")
plt.xlim((0,1))
plt.show()


# Detect spikes
threshold = -20  # Set your voltage threshold for spike detection (e.g., -20 mV)
spike_indices, _ = find_peaks(voltage, height=threshold)
spike_times = time[spike_indices]  # Convert spike indices to times

# Detect bursts based on ISI
isi = np.diff(spike_times)  # Inter-spike intervals
burst_threshold = 0.3  # Define an ISI threshold for bursts (e.g., 20 ms)

# Identify bursts
bursts = []
current_burst = [spike_times[0]]  # Initialize the first burst with the first spike
for i in range(1, len(isi)):
    if isi[i - 1] < burst_threshold:  # Continue the burst
        current_burst.append(spike_times[i])
    else:  # End the current burst and start a new one
        if len(current_burst) > 1:  # Only consider bursts with more than 1 spike
            bursts.append((current_burst[0], current_burst[-1]))
        current_burst = [spike_times[i]]
# Add the last burst if valid
if len(current_burst) > 1:
    bursts.append((current_burst[0], current_burst[-1]))

# Plot the sweep, spikes, and bursts
plt.figure(figsize=(12, 6))
plt.plot(time, voltage, label='Sweep Data',lw=0.2)
plt.plot(time[spike_indices], voltage[spike_indices], 'r.', label='Spikes', markersize=4)

# Highlight bursts with shaded regions
for burst_start, burst_end in bursts:
    plt.axvspan(burst_start, burst_end, color='green', alpha=0.2, label='Burst')

plt.axhline(threshold, color='k', linestyle='--', label='Threshold',lw=0.2)
plt.xlabel("Time (s)")
plt.ylabel("Voltage (mV)")
plt.title("Sweep with Detected Spikes and Bursts")
plt.xlim((8,12))
#plt.legend()
plt.show()

# Print detected bursts
#for i, (burst_start, burst_end) in enumerate(bursts):
#    print(f"Burst {i + 1}: Start = {burst_start:.3f} s, End = {burst_end:.3f} s")


# Detect "square_wave" bursts
square_wave_bursts = []

for i, (burst_start, burst_end) in enumerate(bursts):
    # Calculate the mean voltage during the burst
    burst_mask = (time >= burst_start) & (time <= burst_end)
    burst_min_voltage = np.mean(voltage[burst_mask])

    # Calculate mean voltage during the preceding inter-burst interval
    if i > 0:  # Check if there's a previous burst
        prev_end = bursts[i - 1][1]
        inter_burst_prev_mask = (time > prev_end) & (time < burst_start)
        prev_mean_voltage = np.mean(voltage[inter_burst_prev_mask])
    else:
        prev_mean_voltage = float('-inf')  # No previous interval

    # Calculate mean voltage during the succeeding inter-burst interval
    if i < len(bursts) - 1:  # Check if there's a next burst
        next_start = bursts[i + 1][0]
        inter_burst_next_mask = (time > burst_end) & (time < next_start)
        next_mean_voltage = np.mean(voltage[inter_burst_next_mask])
    else:
        next_mean_voltage = float('-inf')  # No next interval

    # Test if the burst is "square_wave"
    if burst_min_voltage > prev_mean_voltage and burst_min_voltage > next_mean_voltage:
        square_wave_bursts.append((burst_start, burst_end))

# Plot the sweep with square_wave bursts highlighted
plt.figure(figsize=(12, 6))
plt.plot(time, voltage, label='Sweep Data')
plt.plot(time[spike_indices], voltage[spike_indices], 'r.', label='Spikes', markersize=8)

# Highlight bursts
for burst_start, burst_end in bursts:
    plt.axvspan(burst_start, burst_end, color='green', alpha=0.3, label='Burst')

# Highlight square_wave bursts
for burst_start, burst_end in square_wave_bursts:
    plt.axvspan(burst_start, burst_end, color='blue', alpha=0.2, label='square_wave Burst')

plt.axhline(threshold, color='k', linestyle='--', label='Threshold')
plt.xlabel("Time (s)")
plt.ylabel("Voltage (mV)")
plt.title("Sweep with Detected Spikes and square_wave Bursts")
#plt.legend()
plt.xlim((9,11))
plt.show()

# Print results
#for i, (burst_start, burst_end) in enumerate(square_wave_bursts):
#    print(f"square_wave Burst {i + 1}: Start = {burst_start:.3f} s, End = {burst_end:.3f} s")









sweep_number = 9
abf = pyabf.ABF(file_path2)
abf.setSweep(sweep_number)

# Extract sweep data
time = abf.sweepX  # Time axis for the sweep
voltage = abf.sweepY  # Voltage data for the sweep

# Detect spikes
threshold = -20  # Set your voltage threshold for spike detection (e.g., -20 mV)
spike_indices, _ = find_peaks(voltage, height=threshold)
spike_times = time[spike_indices]  # Convert spike indices to times

# Detect bursts based on ISI
isi = np.diff(spike_times)  # Inter-spike intervals
burst_threshold = 0.3  # Define an ISI threshold for bursts (e.g., 20 ms)

# Identify bursts
bursts = []
current_burst = [spike_times[0]]  # Initialize the first burst with the first spike
for i in range(1, len(isi)):
    if isi[i - 1] < burst_threshold:  # Continue the burst
        current_burst.append(spike_times[i])
    else:  # End the current burst and start a new one
        if len(current_burst) > 1:  # Only consider bursts with more than 1 spike
            bursts.append((current_burst[0], current_burst[-1]))
        current_burst = [spike_times[i]]
# Add the last burst if valid
if len(current_burst) > 1:
    bursts.append((current_burst[0], current_burst[-1]))

# Plot the sweep, spikes, and bursts
plt.figure(figsize=(12, 6))
plt.plot(time, voltage, label='Sweep Data',lw=0.2)
plt.plot(time[spike_indices], voltage[spike_indices], 'r.', label='Spikes', markersize=4)

# Highlight bursts with shaded regions
for burst_start, burst_end in bursts:
    plt.axvspan(burst_start, burst_end, color='green', alpha=0.2, label='Burst')

plt.axhline(threshold, color='k', linestyle='--', label='Threshold',lw=0.2)
plt.xlabel("Time (s)")
plt.ylabel("Voltage (mV)")
plt.title("Sweep with Detected Spikes and Bursts")
#plt.xlim((8,12))
#plt.legend()
plt.show()

# Print detected bursts
#for i, (burst_start, burst_end) in enumerate(bursts):
#    print(f"Burst {i + 1}: Start = {burst_start:.3f} s, End = {burst_end:.3f} s")








# Initialize lists for categorized bursts
square_wave_bursts = []
parabolic_bursts = []
other_bursts = []

for i, (burst_start, burst_end) in enumerate(bursts):
    # Calculate the minimum voltage during the burst
    burst_mask = (time >= burst_start) & (time <= burst_end)
    burst_min_voltage = np.min(voltage[burst_mask])

    # Calculate mean voltage during the preceding inter-burst interval
    if i > 0:  # Check if there's a previous burst
        prev_end = bursts[i - 1][1]
        inter_burst_prev_mask = (time > prev_end) & (time < burst_start)
        prev_mean_voltage = np.mean(voltage[inter_burst_prev_mask])
    else:
        prev_mean_voltage = float('nan')  # No previous interval, ignore in comparison

    # Calculate mean voltage during the succeeding inter-burst interval
    if i < len(bursts) - 1:  # Check if there's a next burst
        next_start = bursts[i + 1][0]
        inter_burst_next_mask = (time > burst_end) & (time < next_start)
        next_mean_voltage = np.mean(voltage[inter_burst_next_mask])
    else:
        next_mean_voltage = float('nan')  # No next interval, ignore in comparison

    # Calculate overall inter-burst mean voltage
    inter_burst_mean = np.nanmean([prev_mean_voltage, next_mean_voltage])

    # Test conditions to classify the burst
    if burst_min_voltage > inter_burst_mean:
        square_wave_bursts.append((burst_start, burst_end))
    elif burst_min_voltage < inter_burst_mean:
        parabolic_bursts.append((burst_start, burst_end))
    else:
        other_bursts.append((burst_start, burst_end))

# Plot the sweep with classified bursts highlighted
plt.figure(figsize=(12, 6))
plt.plot(time, voltage, label='Sweep Data')
plt.plot(time[spike_indices], voltage[spike_indices], 'r.', label='Spikes', markersize=8)

# Highlight bursts
for burst_start, burst_end in square_wave_bursts:
    plt.axvspan(burst_start, burst_end, color='blue', alpha=0.5, label='Square Wave')

for burst_start, burst_end in parabolic_bursts:
    plt.axvspan(burst_start, burst_end, color='green', alpha=0.5, label='Parabolic')

for burst_start, burst_end in other_bursts:
    plt.axvspan(burst_start, burst_end, color='orange', alpha=0.5, label='Other')

plt.axhline(threshold, color='k', linestyle='--', label='Threshold')
plt.xlabel("Time (s)")
plt.ylabel("Voltage (mV)")
plt.title("Sweep with Detected Spikes and Burst Classifications")
plt.legend()
plt.show()

# Print results
print("Square Wave Bursts:")
for i, (burst_start, burst_end) in enumerate(square_wave_bursts):
    print(f"  Burst {i + 1}: Start = {burst_start:.3f} s, End = {burst_end:.3f} s")

print("\nParabolic Bursts:")
for i, (burst_start, burst_end) in enumerate(parabolic_bursts):
    print(f"  Burst {i + 1}: Start = {burst_start:.3f} s, End = {burst_end:.3f} s")

print("\nOther Bursts:")
for i, (burst_start, burst_end) in enumerate(other_bursts):
    print(f"  Burst {i + 1}: Start = {burst_start:.3f} s, End = {burst_end:.3f} s")



sweep_number = 15
abf = pyabf.ABF(file_path1)
abf.setSweep(sweep_number)

# Extract sweep data
time = abf.sweepX  # Time axis for the sweep
voltage = abf.sweepY  # Voltage data for the sweep

# Detect spikes
threshold = -20  # Set your voltage threshold for spike detection (e.g., -20 mV)
spike_indices, _ = find_peaks(voltage, height=threshold)
spike_times = time[spike_indices]  # Convert spike indices to times

# Detect bursts based on ISI
isi = np.diff(spike_times)  # Inter-spike intervals
burst_threshold = 0.3  # Define an ISI threshold for bursts (e.g., 20 ms)

# Identify bursts
bursts = []
current_burst = [spike_times[0]]  # Initialize the first burst with the first spike
for i in range(1, len(isi)):
    if isi[i - 1] < burst_threshold:  # Continue the burst
        current_burst.append(spike_times[i])
    else:  # End the current burst and start a new one
        if len(current_burst) > 1:  # Only consider bursts with more than 1 spike
            bursts.append((current_burst[0], current_burst[-1]))
        current_burst = [spike_times[i]]
# Add the last burst if valid
if len(current_burst) > 1:
    bursts.append((current_burst[0], current_burst[-1]))

# Plot the sweep, spikes, and bursts
plt.figure(figsize=(12, 6))
plt.plot(time, voltage, label='Sweep Data',lw=0.2)
plt.plot(time[spike_indices], voltage[spike_indices], 'r.', label='Spikes', markersize=4)

# Highlight bursts with shaded regions
for burst_start, burst_end in bursts:
    plt.axvspan(burst_start, burst_end, color='green', alpha=0.2, label='Burst')

plt.axhline(threshold, color='k', linestyle='--', label='Threshold',lw=0.2)
plt.xlabel("Time (s)")
plt.ylabel("Voltage (mV)")
plt.title("Sweep with Detected Spikes and Bursts")
#plt.xlim((8,12))
#plt.legend()
plt.show()



# Initialize lists for categorized bursts
square_wave_bursts = []
parabolic_bursts = []
other_bursts = []

for i, (burst_start, burst_end) in enumerate(bursts):
    # Calculate the minimum voltage during the burst
    burst_mask = (time >= burst_start) & (time <= burst_end)
    burst_min_voltage = np.min(voltage[burst_mask])

    # Calculate mean voltage during the preceding inter-burst interval
    if i > 0:  # Check if there's a previous burst
        prev_end = bursts[i - 1][1]
        inter_burst_prev_mask = (time > prev_end) & (time < burst_start)
        prev_mean_voltage = np.mean(voltage[inter_burst_prev_mask])
    else:
        prev_mean_voltage = float('nan')  # No previous interval, ignore in comparison

    # Calculate mean voltage during the succeeding inter-burst interval
    if i < len(bursts) - 1:  # Check if there's a next burst
        next_start = bursts[i + 1][0]
        inter_burst_next_mask = (time > burst_end) & (time < next_start)
        next_mean_voltage = np.mean(voltage[inter_burst_next_mask])
    else:
        next_mean_voltage = float('nan')  # No next interval, ignore in comparison

    # Calculate overall inter-burst mean voltage
    inter_burst_mean = np.nanmean([prev_mean_voltage, next_mean_voltage])

    # Test conditions to classify the burst
    if burst_min_voltage > inter_burst_mean:
        square_wave_bursts.append((burst_start, burst_end))
    elif burst_min_voltage < inter_burst_mean:
        parabolic_bursts.append((burst_start, burst_end))
    else:
        other_bursts.append((burst_start, burst_end))

# Plot the sweep with classified bursts highlighted
plt.figure(figsize=(12, 6))
plt.plot(time, voltage, label='Sweep Data')
plt.plot(time[spike_indices], voltage[spike_indices], 'r.', label='Spikes', markersize=8)

# Highlight bursts with a single legend entry per category
square_wave_patch = None
parabolic_patch = None
other_patch = None

for burst_start, burst_end in square_wave_bursts:
    square_wave_patch = plt.axvspan(burst_start, burst_end, color='blue', alpha=0.5, label='Square Wave')

for burst_start, burst_end in parabolic_bursts:
    parabolic_patch = plt.axvspan(burst_start, burst_end, color='green', alpha=0.5, label='Parabolic')

for burst_start, burst_end in other_bursts:
    other_patch = plt.axvspan(burst_start, burst_end, color='orange', alpha=0.5, label='Other')

# Filter out None handles
handles = [patch for patch in [square_wave_patch, parabolic_patch, other_patch] if patch is not None]
labels = ['Square Wave', 'Parabolic', 'Other'][:len(handles)]

# Add a single legend entry for each classification
plt.legend(handles, labels)

plt.axhline(threshold, color='k', linestyle='--', label='Threshold')
plt.xlabel("Time (s)")
plt.ylabel("Voltage (mV)")
plt.title("Sweep with Detected Spikes and Burst Classifications")
plt.show()

# Print results
print("Square Wave Bursts:")
for i, (burst_start, burst_end) in enumerate(square_wave_bursts):
    print(f"  Burst {i + 1}: Start = {burst_start:.3f} s, End = {burst_end:.3f} s")

print("\nParabolic Bursts:")
for i, (burst_start, burst_end) in enumerate(parabolic_bursts):
    print(f"  Burst {i + 1}: Start = {burst_start:.3f} s, End = {burst_end:.3f} s")

print("\nOther Bursts:")
for i, (burst_start, burst_end) in enumerate(other_bursts):
    print(f"  Burst {i + 1}: Start = {burst_start:.3f} s, End = {burst_end:.3f} s")



def analyze_spikes_and_bursts(file_path, sweep_number, xmin=None, xmax=None, voltage_threshold =None, burst_threshold=None):
    # Load the data
    abf = pyabf.ABF(file_path)
    abf.setSweep(sweep_number)
    time = abf.sweepX
    voltage = abf.sweepY
    
    # -----------------------------------------------------------------------------------
    # --- Detect spikes -----------------------------------------------------------------
    # -----------------------------------------------------------------------------------

    spike_indices, _ = find_peaks(voltage, height=voltage_threshold)
    spike_times = time[spike_indices]  # Convert spike indices to times

    # Detect bursts based on ISI
    isi = np.diff(spike_times)  # Inter-spike intervals

    # -----------------------------------------------------------------------------------
    # --- Identify bursts
    # -----------------------------------------------------------------------------------

    bursts = []
    current_burst = [spike_times[0]]  # Initialize the first burst with the first spike
    for i in range(1, len(isi)):
        if isi[i - 1] < burst_threshold:  # Continue the burst
            current_burst.append(spike_times[i])
        else:  # End the current burst and start a new one
            if len(current_burst) > 1:  # Only consider bursts with more than 1 spike
                bursts.append((current_burst[0], current_burst[-1]))
            current_burst = [spike_times[i]]
    # Add the last burst if valid
    if len(current_burst) > 1:
        bursts.append((current_burst[0], current_burst[-1]))

    # -----------------------------------------------------------------------------------
    # classify bursts
    # -----------------------------------------------------------------------------------

    square_wave_bursts = []
    parabolic_bursts = []
    other_bursts = []

    for i, (burst_start, burst_end) in enumerate(bursts):
        # Calculate the minimum voltage during the burst
        burst_mask = (time >= burst_start) & (time <= burst_end)
        burst_min_voltage = np.min(voltage[burst_mask])

        # Calculate mean voltage during the preceding inter-burst interval
        if i > 0:  # Check if there's a previous burst
            prev_end = bursts[i - 1][1]
            inter_burst_prev_mask = (time > prev_end) & (time < burst_start)
            prev_mean_voltage = np.mean(voltage[inter_burst_prev_mask])
        else:
            prev_mean_voltage = float('nan')  # No previous interval, ignore in comparison

        # Calculate mean voltage during the succeeding inter-burst interval
        if i < len(bursts) - 1:  # Check if there's a next burst
            next_start = bursts[i + 1][0]
            inter_burst_next_mask = (time > burst_end) & (time < next_start)
            next_mean_voltage = np.mean(voltage[inter_burst_next_mask])
        else:
            next_mean_voltage = float('nan')  # No next interval, ignore in comparison

        # Calculate overall inter-burst mean voltage
        inter_burst_mean = np.nanmean([prev_mean_voltage, next_mean_voltage])

        # Test conditions to classify the burst
        if burst_min_voltage > inter_burst_mean:
            square_wave_bursts.append((burst_start, burst_end))
        elif burst_min_voltage < inter_burst_mean:
            parabolic_bursts.append((burst_start, burst_end))
        else:
            other_bursts.append((burst_start, burst_end))

    # -----------------------------------------------------------------------------------
    # Plot
    # -----------------------------------------------------------------------------------

    # --- Plot the sweep with classified bursts highlighted
    plt.figure(figsize=(12, 6))
    plt.plot(time, voltage, label='Sweep Data',lw=0.2)
    plt.plot(time[spike_indices], voltage[spike_indices], 'r.', label='Spikes', markersize=4)

    # Highlight bursts
    for burst_start, burst_end in square_wave_bursts:
        plt.axvspan(burst_start, burst_end, color='blue', alpha=0.1, label='Square Wave')

    for burst_start, burst_end in parabolic_bursts:
        plt.axvspan(burst_start, burst_end, color='green', alpha=0.1, label='Parabolic')

    for burst_start, burst_end in other_bursts:
        plt.axvspan(burst_start, burst_end, color='orange', alpha=0.1, label='Other')


    # Highlight bursts and prepare legend handles
    square_wave_patch = None
    parabolic_patch = None
    other_patch = None

    for burst_start, burst_end in square_wave_bursts:
        square_wave_patch = plt.axvspan(burst_start, burst_end, color='blue', alpha=0.1, label='Square Wave')

    for burst_start, burst_end in parabolic_bursts:
        parabolic_patch = plt.axvspan(burst_start, burst_end, color='green', alpha=0.1, label='Parabolic')

    for burst_start, burst_end in other_bursts:
        other_patch = plt.axvspan(burst_start, burst_end, color='orange', alpha=0.1, label='Other')

    # Filter handles to include only non-None entries
    handles = []
    labels = []
    if square_wave_patch:
        handles.append(square_wave_patch)
        labels.append("Square Wave")
    if parabolic_patch:
        handles.append(parabolic_patch)
        labels.append("Parabolic")
    if other_patch:
        handles.append(other_patch)
        labels.append("Other")

    

    #plt.axhline(threshold, color='k', linestyle='--', label='Threshold')
    plt.xlabel("Time (s)")
    plt.ylabel("Voltage (mV)")
    plt.title("Sweep with Detected Spikes and Burst Classifications")
    plt.legend(handles, labels)
    plt.xlim((xmin,xmax))
    plt.show()

    # Print results
 #   print("Square Wave Bursts:")
 #   for i, (burst_start, burst_end) in enumerate(square_wave_bursts):
 #      print(f"  Burst {i + 1}: Start = {burst_start:.3f} s, End = {burst_end:.3f} s")

 #   print("\nParabolic Bursts:")
 #   for i, (burst_start, burst_end) in enumerate(parabolic_bursts):
 #       print(f"  Burst {i + 1}: Start = {burst_start:.3f} s, End = {burst_end:.3f} s")

 #   print("\nOther Bursts:")
 #   for i, (burst_start, burst_end) in enumerate(other_bursts):
 #       print(f"  Burst {i + 1}: Start = {burst_start:.3f} s, End = {burst_end:.3f} s")
# Example usage
# analyze_spikes_and_bursts("path_to_abf_file.abf", 15, xmin=0, xmax=10, burst_threshold=50)


file_path = "abf_data/Bursting/cell89basal.abf"
sweep_number = 15
analyze_spikes_and_bursts(file_path, sweep_number, xmin=5, xmax=10, voltage_threshold = -20, burst_threshold=0.3)


file_path = "abf_data/Bursting/cell98basal.abf"
sweep_number = 9
analyze_spikes_and_bursts(file_path, sweep_number, xmin=0, xmax=20, voltage_threshold = -20, burst_threshold=0.2)


file_path = "abf_data/Bursting/cell89basal.abf"
sweep_number = 17
analyze_spikes_and_bursts(file_path, sweep_number, xmin=8, xmax=12, voltage_threshold = -20, burst_threshold=0.1)






